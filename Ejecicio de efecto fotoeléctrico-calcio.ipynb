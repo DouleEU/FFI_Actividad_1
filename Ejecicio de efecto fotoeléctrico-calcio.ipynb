{
  "cells": [
    {
      "cell_type": "markdown",
      "source": [
        "## Ejercicio sobre el efecto fotoeléctrico"
      ],
      "metadata": {
        "nteract": {
          "transient": {
            "deleting": false
          }
        }
      }
    },
    {
      "cell_type": "markdown",
      "source": [
        "-1,831# Laboratorio virtual #\n",
        "\n",
        "Toma de medidas.\n",
        "\n",
        " ## Calcio ## \n",
        "\n",
        "| Voltaje de frenado (V) | Longitud de onda (m)|\n",
        "|------------------------|---------------------|-----|\n",
        "| $ -0,2 \\ \\mathrm{V} $   | $ 3,78 \\cdot 10^{-7} \\ \\mathrm{m} $ |\n",
        "| $ -0,4 \\ \\mathrm{V} $   | $ 3,61 \\cdot 10^{-7} \\ \\mathrm{m} $ |\n",
        "| $ -0,6 \\ \\mathrm{V} $   | $ 3,44 \\cdot 10^{-7} \\ \\mathrm{m} $ |\n",
        "| $ -0,8 \\ \\mathrm{V} $   | $ 3,27 \\cdot 10^{-7} \\ \\mathrm{m} $ |\n"
      ],
      "metadata": {
        "nteract": {
          "transient": {
            "deleting": false
          }
        }
      }
    },
    {
      "cell_type": "markdown",
      "source": [
        "## Regesión lineal ##\n"
      ],
      "metadata": {
        "nteract": {
          "transient": {
            "deleting": false
          }
        }
      }
    },
    {
      "cell_type": "code",
      "source": [
        "var longitudes_de_onda_medidas = [378,361,344,327].map(x => x*1e-9); // para pasar a metros\n",
        "var voltajes_medidos = [-0.2,-0.4,-0.6,-0.8]; // en voltios (voltaje de frenado)\n"
      ],
      "outputs": [],
      "execution_count": 1,
      "metadata": {
        "collapsed": true,
        "jupyter": {
          "source_hidden": false,
          "outputs_hidden": false
        },
        "nteract": {
          "transient": {
            "deleting": false
          }
        },
        "execution": {
          "iopub.status.busy": "2020-12-02T17:52:39.895Z",
          "iopub.execute_input": "2020-12-02T17:52:39.902Z",
          "iopub.status.idle": "2020-12-02T17:52:39.908Z",
          "shell.execute_reply": "2020-12-02T17:52:39.869Z"
        }
      }
    },
    {
      "cell_type": "code",
      "source": [
        "var inversa_de_longitudes_de_onda = longitudes_de_onda_medidas.map(lambda => 1/lambda );  \n",
        "var datos_a_ajustar = voltajes_medidos.reduce((tuplas_longitud_onda_voltaje, b, i) => {\n",
        "    tuplas_longitud_onda_voltaje.push([inversa_de_longitudes_de_onda[i], b]);\n",
        "  return tuplas_longitud_onda_voltaje;\n",
        "}, []);\n",
        "console.log(datos_a_ajustar); // Verás que son tuplas de valores 1/lambda y voltajes"
      ],
      "outputs": [
        {
          "output_type": "stream",
          "name": "stdout",
          "text": [
            "[\n",
            "  [ 2645502.6455026455, -0.2 ],\n",
            "  [ 2770083.1024930747, -0.4 ],\n",
            "  [ 2906976.7441860465, -0.6 ],\n",
            "  [ 3058103.9755351683, -0.8 ]\n",
            "]\n"
          ]
        }
      ],
      "execution_count": 2,
      "metadata": {
        "collapsed": true,
        "jupyter": {
          "source_hidden": false,
          "outputs_hidden": false
        },
        "nteract": {
          "transient": {
            "deleting": false
          }
        },
        "execution": {
          "iopub.status.busy": "2020-12-02T17:52:40.608Z",
          "iopub.execute_input": "2020-12-02T17:52:40.615Z",
          "iopub.status.idle": "2020-12-02T17:52:40.625Z",
          "shell.execute_reply": "2020-12-02T17:52:40.630Z"
        }
      }
    },
    {
      "cell_type": "code",
      "source": [
        "var regression = require('./regression.js');\n",
        "var result = regression.linear(datos_a_ajustar, { precision: 15 });\n",
        "var m = result.equation[0];  // pendiente\n",
        "var b = result.equation[1];  // ordenada en origen\n",
        "console.log('la pendiente es = ' + m + ' y la ordenada es = ' + b);"
      ],
      "outputs": [
        {
          "output_type": "stream",
          "name": "stdout",
          "text": [
            "la pendiente es = -0.000001452154904 y la ordenada es = 3.631622655470877\n"
          ]
        }
      ],
      "execution_count": 3,
      "metadata": {
        "collapsed": true,
        "jupyter": {
          "source_hidden": false,
          "outputs_hidden": false
        },
        "nteract": {
          "transient": {
            "deleting": false
          }
        },
        "execution": {
          "iopub.status.busy": "2020-12-02T17:52:43.750Z",
          "iopub.execute_input": "2020-12-02T17:52:43.766Z",
          "iopub.status.idle": "2020-12-02T17:52:43.777Z",
          "shell.execute_reply": "2020-12-02T17:52:43.781Z"
        }
      }
    },
    {
      "cell_type": "code",
      "source": [
        "function Plotly(data, layout, $$) {\n",
        "    $$ = $$ || global.$$;\n",
        "    $$.mime({ \"application/vnd.plotly.v1+json\": { data: data, layout: layout } });\n",
        "}"
      ],
      "outputs": [],
      "execution_count": 4,
      "metadata": {
        "collapsed": true,
        "jupyter": {
          "source_hidden": false,
          "outputs_hidden": false
        },
        "nteract": {
          "transient": {
            "deleting": false
          }
        },
        "execution": {
          "iopub.status.busy": "2020-12-02T17:52:46.362Z",
          "iopub.execute_input": "2020-12-02T17:52:46.366Z",
          "iopub.status.idle": "2020-12-02T17:52:46.375Z",
          "shell.execute_reply": "2020-12-02T17:52:46.379Z"
        }
      }
    },
    {
      "cell_type": "code",
      "source": [
        "var voltajes_de_frenado_calculados = inversa_de_longitudes_de_onda.map(inversa_lambda => inversa_lambda * m + b)"
      ],
      "outputs": [],
      "execution_count": 5,
      "metadata": {
        "collapsed": true,
        "jupyter": {
          "source_hidden": false,
          "outputs_hidden": false
        },
        "nteract": {
          "transient": {
            "deleting": false
          }
        },
        "execution": {
          "iopub.status.busy": "2020-12-02T17:52:47.340Z",
          "iopub.execute_input": "2020-12-02T17:52:47.345Z",
          "iopub.status.idle": "2020-12-02T17:52:47.351Z",
          "shell.execute_reply": "2020-12-02T17:52:47.354Z"
        }
      }
    },
    {
      "cell_type": "code",
      "source": [
        "datos = [\n",
        "  { x: inversa_de_longitudes_de_onda, y: voltajes_medidos, name: 'Datos experimentales' }, \n",
        "  { x: inversa_de_longitudes_de_onda, y: voltajes_de_frenado_calculados, name: 'Datos calculados tras ajuste' }\n",
        "];\n",
        "\n",
        "var layout = {\n",
        "  title: 'Gráfica para el calcio',\n",
        "  xaxis: { title: 'Inversa de longitudes de onda (metros^-1)',\n",
        "    titlefont: { family: 'Courier New, monospace', size: 18, color: '#A20404' }\n",
        "  },\n",
        "  yaxis: {\n",
        "    title: 'Voltaje de frenado (voltios)', titlefont: {\n",
        "      family: 'Courier New, monospace', size: 18, color: '#A20404' }\n",
        "  }\n",
        "};\n",
        "\n",
        "Plotly(datos, layout);\n"
      ],
      "outputs": [
        {
          "output_type": "execute_result",
          "execution_count": 6,
          "data": {
            "application/vnd.plotly.v1+json": {
              "data": [
                {
                  "x": [
                    2645502.6455026455,
                    2770083.1024930747,
                    2906976.7441860465,
                    3058103.9755351683
                  ],
                  "y": [
                    -0.2,
                    -0.4,
                    -0.6,
                    -0.8
                  ],
                  "name": "Datos experimentales"
                },
                {
                  "x": [
                    2645502.6455026455,
                    2770083.1024930747,
                    2906976.7441860465,
                    3058103.9755351683
                  ],
                  "y": [
                    -0.2100569847407634,
                    -0.39096710630197595,
                    -0.5897578794128444,
                    -0.8092180295444136
                  ],
                  "name": "Datos calculados tras ajuste"
                }
              ],
              "layout": {
                "title": "Gráfica para el zinc",
                "xaxis": {
                  "title": "Inversa de longitudes de onda (metros^-1)",
                  "titlefont": {
                    "family": "Courier New, monospace",
                    "size": 18,
                    "color": "#A20404"
                  }
                },
                "yaxis": {
                  "title": "Voltaje de frenado (voltios)",
                  "titlefont": {
                    "family": "Courier New, monospace",
                    "size": 18,
                    "color": "#A20404"
                  }
                }
              }
            }
          },
          "metadata": {}
        }
      ],
      "execution_count": 6,
      "metadata": {
        "collapsed": true,
        "jupyter": {
          "source_hidden": false,
          "outputs_hidden": false
        },
        "nteract": {
          "transient": {
            "deleting": false
          }
        },
        "execution": {
          "iopub.status.busy": "2020-12-02T17:52:48.252Z",
          "iopub.execute_input": "2020-12-02T17:52:48.255Z",
          "iopub.status.idle": "2020-12-02T17:52:48.333Z",
          "shell.execute_reply": "2020-12-02T17:52:48.338Z"
        }
      }
    }
  ],
  "metadata": {
    "kernel_info": {
      "name": "node_nteract"
    },
    "language_info": {
      "name": "javascript",
      "version": "12.8.1",
      "mimetype": "application/javascript",
      "file_extension": ".js"
    },
    "kernelspec": {
      "argv": [
        "C:\\Program Files\\nteract\\nteract.exe",
        "C:\\Program Files\\nteract\\resources\\app.asar\\node_modules\\ijavascript\\lib\\kernel.js",
        "{connection_file}",
        "--protocol=5.0",
        "--hide-undefined"
      ],
      "display_name": "Node.js (nteract)",
      "env": {
        "ELECTRON_RUN_AS_NODE": "1",
        "NODE_PATH": "C:\\Program Files\\nteract\\resources\\app.asar\\node_modules"
      },
      "language": "javascript",
      "name": "node_nteract"
    },
    "nteract": {
      "version": "0.27.0"
    }
  },
  "nbformat": 4,
  "nbformat_minor": 0
}