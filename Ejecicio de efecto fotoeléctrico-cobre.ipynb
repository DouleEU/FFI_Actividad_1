{
  "cells": [
    {
      "cell_type": "markdown",
      "source": [
        "## Ejercicio sobre el efecto fotoeléctrico"
      ],
      "metadata": {
        "nteract": {
          "transient": {
            "deleting": false
          }
        }
      }
    },
    {
      "cell_type": "markdown",
      "source": [
        "-1,831# Laboratorio virtual #\n",
        "\n",
        "Toma de medidas.\n",
        "\n",
        " ## Cobre ## \n",
        "\n",
        "| Voltaje de frenado (V) | Longitud de onda (m)|\n",
        "|------------------------|---------------------|-----|\n",
        "| $ -0,2 \\ \\mathrm{V} $   | $ 2,41 \\cdot 10^{-7} \\ \\mathrm{m} $ |\n",
        "| $ -0,4 \\ \\mathrm{V} $   | $ 2,35 \\cdot 10^{-7} \\ \\mathrm{m} $ |\n",
        "| $ -0,6 \\ \\mathrm{V} $   | $ 2,28 \\cdot 10^{-7} \\ \\mathrm{m} $ |\n",
        "| $ -0,8 \\ \\mathrm{V} $   | $ 2,21 \\cdot 10^{-7} \\ \\mathrm{m} $ |\n"
      ],
      "metadata": {
        "nteract": {
          "transient": {
            "deleting": false
          }
        }
      }
    },
    {
      "cell_type": "markdown",
      "source": [
        "## Regesión lineal ##\n"
      ],
      "metadata": {
        "nteract": {
          "transient": {
            "deleting": false
          }
        }
      }
    },
    {
      "cell_type": "code",
      "source": [
        "var longitudes_de_onda_medidas = [241,235,228,221].map(x => x*1e-9); // para pasar a metros\n",
        "var voltajes_medidos = [-0.2,-0.4,-0.6,-0.8]; // en voltios (voltaje de frenado)\n"
      ],
      "outputs": [],
      "execution_count": 1,
      "metadata": {
        "collapsed": true,
        "jupyter": {
          "source_hidden": false,
          "outputs_hidden": false
        },
        "nteract": {
          "transient": {
            "deleting": false
          }
        },
        "execution": {
          "iopub.status.busy": "2020-12-02T17:02:38.864Z",
          "iopub.execute_input": "2020-12-02T17:02:38.868Z",
          "iopub.status.idle": "2020-12-02T17:02:38.872Z",
          "shell.execute_reply": "2020-12-02T17:02:38.852Z"
        }
      }
    },
    {
      "cell_type": "code",
      "source": [
        "var inversa_de_longitudes_de_onda = longitudes_de_onda_medidas.map(lambda => 1/lambda );  \n",
        "var datos_a_ajustar = voltajes_medidos.reduce((tuplas_longitud_onda_voltaje, b, i) => {\n",
        "    tuplas_longitud_onda_voltaje.push([inversa_de_longitudes_de_onda[i], b]);\n",
        "  return tuplas_longitud_onda_voltaje;\n",
        "}, []);\n",
        "console.log(datos_a_ajustar); // Verás que son tuplas de valores 1/lambda y voltajes"
      ],
      "outputs": [
        {
          "output_type": "stream",
          "name": "stdout",
          "text": [
            "[\n",
            "  [ 4149377.593360996, -0.2 ],\n",
            "  [ 4255319.14893617, -0.4 ],\n",
            "  [ 4385964.912280702, -0.6 ],\n",
            "  [ 4524886.877828054, -0.8 ]\n",
            "]\n"
          ]
        }
      ],
      "execution_count": 2,
      "metadata": {
        "collapsed": true,
        "jupyter": {
          "source_hidden": false,
          "outputs_hidden": false
        },
        "nteract": {
          "transient": {
            "deleting": false
          }
        },
        "execution": {
          "iopub.status.busy": "2020-12-02T17:02:50.226Z",
          "iopub.execute_input": "2020-12-02T17:02:50.230Z",
          "iopub.status.idle": "2020-12-02T17:02:50.272Z",
          "shell.execute_reply": "2020-12-02T17:02:50.274Z"
        }
      }
    },
    {
      "cell_type": "code",
      "source": [
        "var regression = require('./regression.js');\n",
        "var result = regression.linear(datos_a_ajustar, { precision: 15 });\n",
        "var m = result.equation[0];  // pendiente\n",
        "var b = result.equation[1];  // ordenada en origen\n",
        "console.log('la pendiente es = ' + m + ' y la ordenada es = ' + b);"
      ],
      "outputs": [
        {
          "output_type": "stream",
          "name": "stdout",
          "text": [
            "la pendiente es = -0.00000158514492 y la ordenada es = 6.361913448289175\n"
          ]
        }
      ],
      "execution_count": 4,
      "metadata": {
        "collapsed": true,
        "jupyter": {
          "source_hidden": false,
          "outputs_hidden": false
        },
        "nteract": {
          "transient": {
            "deleting": false
          }
        },
        "execution": {
          "iopub.status.busy": "2020-12-02T17:02:57.088Z",
          "iopub.execute_input": "2020-12-02T17:02:57.091Z",
          "iopub.status.idle": "2020-12-02T17:02:57.098Z",
          "shell.execute_reply": "2020-12-02T17:02:57.100Z"
        }
      }
    },
    {
      "cell_type": "code",
      "source": [
        "function Plotly(data, layout, $$) {\n",
        "    $$ = $$ || global.$$;\n",
        "    $$.mime({ \"application/vnd.plotly.v1+json\": { data: data, layout: layout } });\n",
        "}"
      ],
      "outputs": [],
      "execution_count": 5,
      "metadata": {
        "collapsed": true,
        "jupyter": {
          "source_hidden": false,
          "outputs_hidden": false
        },
        "nteract": {
          "transient": {
            "deleting": false
          }
        },
        "execution": {
          "iopub.status.busy": "2020-12-02T17:02:58.570Z",
          "iopub.execute_input": "2020-12-02T17:02:58.573Z",
          "iopub.status.idle": "2020-12-02T17:02:58.578Z",
          "shell.execute_reply": "2020-12-02T17:02:58.581Z"
        }
      }
    },
    {
      "cell_type": "code",
      "source": [
        "var voltajes_de_frenado_calculados = inversa_de_longitudes_de_onda.map(inversa_lambda => inversa_lambda * m + b)"
      ],
      "outputs": [],
      "execution_count": 6,
      "metadata": {
        "collapsed": true,
        "jupyter": {
          "source_hidden": false,
          "outputs_hidden": false
        },
        "nteract": {
          "transient": {
            "deleting": false
          }
        },
        "execution": {
          "iopub.status.busy": "2020-12-02T17:03:02.157Z",
          "iopub.execute_input": "2020-12-02T17:03:02.161Z",
          "iopub.status.idle": "2020-12-02T17:03:02.171Z",
          "shell.execute_reply": "2020-12-02T17:03:02.174Z"
        }
      }
    },
    {
      "cell_type": "code",
      "source": [
        "datos = [\n",
        "  { x: inversa_de_longitudes_de_onda, y: voltajes_medidos, name: 'Datos experimentales' }, \n",
        "  { x: inversa_de_longitudes_de_onda, y: voltajes_de_frenado_calculados, name: 'Datos calculados tras ajuste' }\n",
        "];\n",
        "\n",
        "var layout = {\n",
        "  title: 'Gráfica para el cobre',\n",
        "  xaxis: { title: 'Inversa de longitudes de onda (metros^-1)',\n",
        "    titlefont: { family: 'Courier New, monospace', size: 18, color: '#A20404' }\n",
        "  },\n",
        "  yaxis: {\n",
        "    title: 'Voltaje de frenado (voltios)', titlefont: {\n",
        "      family: 'Courier New, monospace', size: 18, color: '#A20404' }\n",
        "  }\n",
        "};\n",
        "\n",
        "Plotly(datos, layout);\n"
      ],
      "outputs": [
        {
          "output_type": "execute_result",
          "execution_count": 7,
          "data": {
            "application/vnd.plotly.v1+json": {
              "data": [
                {
                  "x": [
                    4149377.593360996,
                    4255319.14893617,
                    4385964.912280702,
                    4524886.877828054
                  ],
                  "y": [
                    -0.2,
                    -0.4,
                    -0.6,
                    -0.8
                  ],
                  "name": "Datos experimentales"
                },
                {
                  "x": [
                    4149377.593360996,
                    4255319.14893617,
                    4385964.912280702,
                    4524886.877828054
                  ],
                  "y": [
                    -0.21545136498883277,
                    -0.3833840836257183,
                    -0.5904765517108252,
                    -0.8106879996746255
                  ],
                  "name": "Datos calculados tras ajuste"
                }
              ],
              "layout": {
                "title": "Gráfica para el zinc",
                "xaxis": {
                  "title": "Inversa de longitudes de onda",
                  "titlefont": {
                    "family": "Courier New, monospace",
                    "size": 18,
                    "color": "#A20404"
                  }
                },
                "yaxis": {
                  "title": "Voltaje de frenado",
                  "titlefont": {
                    "family": "Courier New, monospace",
                    "size": 18,
                    "color": "#A20404"
                  }
                }
              }
            }
          },
          "metadata": {}
        }
      ],
      "execution_count": 7,
      "metadata": {
        "collapsed": true,
        "jupyter": {
          "source_hidden": false,
          "outputs_hidden": false
        },
        "nteract": {
          "transient": {
            "deleting": false
          }
        },
        "execution": {
          "iopub.status.busy": "2020-12-02T17:03:03.891Z",
          "iopub.execute_input": "2020-12-02T17:03:03.894Z",
          "iopub.status.idle": "2020-12-02T17:03:03.953Z",
          "shell.execute_reply": "2020-12-02T17:03:03.956Z"
        }
      }
    }
  ],
  "metadata": {
    "kernel_info": {
      "name": "node_nteract"
    },
    "language_info": {
      "name": "javascript",
      "version": "12.8.1",
      "mimetype": "application/javascript",
      "file_extension": ".js"
    },
    "kernelspec": {
      "argv": [
        "C:\\Program Files\\nteract\\nteract.exe",
        "C:\\Program Files\\nteract\\resources\\app.asar\\node_modules\\ijavascript\\lib\\kernel.js",
        "{connection_file}",
        "--protocol=5.0",
        "--hide-undefined"
      ],
      "display_name": "Node.js (nteract)",
      "env": {
        "ELECTRON_RUN_AS_NODE": "1",
        "NODE_PATH": "C:\\Program Files\\nteract\\resources\\app.asar\\node_modules"
      },
      "language": "javascript",
      "name": "node_nteract"
    },
    "nteract": {
      "version": "0.27.0"
    }
  },
  "nbformat": 4,
  "nbformat_minor": 0
}