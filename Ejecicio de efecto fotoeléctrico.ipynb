{
  "cells": [
    {
      "cell_type": "markdown",
      "source": [
        "## Ejercicio sobre el efecto fotoeléctrico"
      ],
      "metadata": {
        "nteract": {
          "transient": {
            "deleting": false
          }
        }
      }
    },
    {
      "cell_type": "markdown",
      "source": [
        "El objetivo de esta práctica es la determinación de la __*energía de arranque*__ de los electrones de un metal y el __valor de la__ __*constante de Planck ($\\hbar$)*__."
      ],
      "metadata": {
        "nteract": {
          "transient": {
            "deleting": false
          }
        }
      }
    },
    {
      "cell_type": "markdown",
      "source": [
        "__*Ejercicio de pre-calentamiento*__: Comprobar que $ e \\cdot V $ tiene unidades de energía, donde $ e $ es la carga del electrón."
      ],
      "metadata": {
        "nteract": {
          "transient": {
            "deleting": false
          }
        }
      }
    },
    {
      "cell_type": "markdown",
      "source": [
        "Sabiendo que la carga del electrón tiene por unidad el Culumbio $ \\mathrm{C} $ cuyas unidades básicas son: \n",
        "\n",
        " $$ \\mathrm{C = s \\cdot A} $$\n",
        "      \n",
        "y que las unidades básicas de la diferencia de potencial $ V $ son: \n",
        "\n",
        " $$ \\mathrm{m^2 \\cdot kg \\cdot s^{-3} \\cdot A^{-1}} $$\n",
        "\n",
        "de su multimicación obtendremos las unidades: \n",
        "\n",
        " $$ \\mathrm{m^2 \\cdot kg \\cdot s^{-2}} $$ \n",
        "\n",
        "que se corresponden con las unidades básicas de energía. \n",
        "\n",
        " $$ \\mathrm{J = N \\cdot m = m^2 \\cdot kg \\cdot s^{-2}} $$\n"
      ],
      "metadata": {
        "nteract": {
          "transient": {
            "deleting": false
          }
        }
      }
    },
    {
      "cell_type": "markdown",
      "source": [
        "__*Ejercicio de calentamiento*__: \n",
        "\n",
        "Demuestra la equivalencia matemática siguiente:   \n",
        "\n",
        "$$  \\frac{x - x_1}{x_2 - x_1} = \\frac{y - y_1}{y_2 - y_1}  \\ \\text{ es equibalente a }\\ y = m \\cdot x + b  $$   \n",
        "\n",
        "donde: \n",
        "\n",
        "$$ m = \\frac{y_1 - y_2}{x_1 - x_2} \\hspace{1cm} b = \\frac{x_1 \\cdot y_2 - x_2 \\cdot y_1}{x_1 - x_2} $$\n",
        "\n",
        "por lo tanto: \n",
        "\n",
        "$$ y = \\frac{x(y_1 - y_2)}{x_1 - x_2} + \\frac{x_1 \\cdot y_2 - x_2 \\cdot y_1}{x_1 - x_2} $$\n",
        "\n",
        "$$ = \\frac{xy_1 - xy_2 + x_1y_2 - x_2y_1}{x_1 - x_2} $$\n",
        "\n",
        "\n"
      ],
      "metadata": {
        "nteract": {
          "transient": {
            "deleting": false
          }
        }
      }
    },
    {
      "cell_type": "markdown",
      "source": [
        "y despejando la $ y $ de la primera función obtenemos:\n",
        "\n",
        "$$ \\frac{(x - x_1) \\cdot (y_2 - y_1)}{x_2 -x_1} = y - y_1 $$\n",
        "\n",
        "donde:\n",
        "\n",
        "$$ y = \\frac{xy_2 - xy_1 - x_1y_2 + x_1y_1}{x_2 - x_1} + y_1 $$\n",
        "\n",
        "por lo tanto: \n",
        "\n",
        "$$ y = \\frac{x(y_1 - y_2)}{x_1 - x_2} + \\frac{x_1 \\cdot y_2 - x_2 \\cdot y_1}{x_1 - x_2} $$\n",
        "\n",
        "$$ = \\frac{xy_1 - xy_2 + x_1y_2 - x_2y_1}{x_1 - x_2} $$\n",
        "\n",
        "\n",
        "\n",
        "$$ = \\frac{xy_2 - xy_1 - x_1y_2 + x_1y_1}{x_2 - x_1} + \\frac{y_1(x_2 - x_1)}{x_2 - x_1} $$\n",
        "\n",
        "$$ = \\frac{xy_2 - xy_1 - x_1y_2 + x_1y_1 + x_2y_1 - x_1y1)}{x_2 - x_1} \\cdot \\frac{-1}{-1} $$\n",
        "\n",
        "$$ = \\frac{xy_1 - xy_2 + x_1y_2 - x_2y_1}{x_1 - x_2} $$\n",
        "\n",
        "quedando demostrada la relación anterior.\n",
        "\n"
      ],
      "metadata": {
        "nteract": {
          "transient": {
            "deleting": false
          }
        }
      }
    },
    {
      "cell_type": "markdown",
      "source": [
        "__*Pregunta*__: ¿Qué hace CheepJ tras el telón y en qué estándares Web se basa?"
      ],
      "metadata": {
        "nteract": {
          "transient": {
            "deleting": false
          }
        }
      }
    },
    {
      "cell_type": "markdown",
      "source": [
        "__*Primer ejercicio*__: \n",
        "\n",
        "Haced una tabla rápida con el nombre de cada color del arcoíris en una columna, una segunda columna con su longitud de onda (en metros) y en una tercera columna su frecuencia (en Hercios). "
      ],
      "metadata": {
        "nteract": {
          "transient": {
            "deleting": false
          }
        }
      }
    },
    {
      "cell_type": "markdown",
      "source": [
        "Color | Longitud de onda (m) | Frecuencia (Hz)\n",
        "--------|----------------------|----------------\n",
        "Violeta | $  4,15 \\cdot 10^{-7} \\ \\mathrm{m} $ | $$ 7,23 \\cdot 10^{14} \\ \\mathrm{Hz}$$\n",
        "Azul | $  4,62 \\cdot 10^{-7} \\ \\mathrm{m} $ | $$ 6,47 \\cdot 10^{14} \\ \\mathrm{Hz}$$\n",
        "Ciano | $  4,85 \\cdot 10^{-7} \\ \\mathrm{m} $ | $$ 6,18 \\cdot 10^{14} \\ \\mathrm{Hz}$$\n",
        "Verde | $  5,32 \\cdot 10^{-7} \\ \\mathrm{m} $ | $$ 5,63 \\cdot 10^{14} \\ \\mathrm{Hz}$$\n",
        "Amarillo | $  5,80 \\cdot 10^{-7} \\ \\mathrm{m} $ | $$ 5,17 \\cdot 10^{14} \\ \\mathrm{Hz}$$\n",
        "Naranja | $  6,05 \\cdot 10^{-7} \\ \\mathrm{m} $ | $$ 4,96 \\cdot 10^{14} \\ \\mathrm{Hz}$$\n",
        "Rojo | $  6,85 \\cdot 10^{-7} \\ \\mathrm{m} $ | $$ 4,38 \\cdot 10^{14} \\ \\mathrm{Hz}$$"
      ],
      "metadata": {
        "nteract": {
          "transient": {
            "deleting": false
          }
        }
      }
    },
    {
      "cell_type": "markdown",
      "source": [
        "¿Cuál es la relación matemática entre longitud de onda y frecuencia?\n",
        "\n",
        "Si la velocidad de propagación es constante, la longitud de onda es inversamente proporcional a la frecuencia.\n"
      ],
      "metadata": {
        "nteract": {
          "transient": {
            "deleting": false
          }
        }
      }
    },
    {
      "cell_type": "markdown",
      "source": [
        "# Laboratorio virtual #\n",
        "\n",
        "Toma de medidas.\n",
        "\n",
        " ## Sodio ## \n",
        "\n",
        "| Voltaje de frenado (V) | Longitud de onda (m)|     |\n",
        "|------------------------|---------------------|-----|\n",
        "| $ -1,83 \\ \\mathrm{V} $   | $ 2,97 \\cdot 10^{-7} \\ \\mathrm{m} $ | UVB |\n",
        "| $ -1,11 \\ \\mathrm{V} $   | $ 3,57 \\cdot 10^{-7} \\ \\mathrm{m} $ | UVA |\n",
        "| $ -0,60 \\ \\mathrm{V} $   | $ 4,15 \\cdot 10^{-7} \\ \\mathrm{m} $ | Violeta |\n",
        "| $ -0,24 \\ \\mathrm{V} $   | $ 4,62 \\cdot 10^{-7} \\ \\mathrm{m} $ | Azul |\n"
      ],
      "metadata": {
        "nteract": {
          "transient": {
            "deleting": false
          }
        }
      }
    },
    {
      "cell_type": "markdown",
      "source": [
        "## Regesión lineal ##\n"
      ],
      "metadata": {
        "nteract": {
          "transient": {
            "deleting": false
          }
        }
      }
    },
    {
      "cell_type": "markdown",
      "source": [
        "__*Pregunta*__: ¿para qué sirve UNPKG y porqué es uno de los servicios más usados de Internet (junto con jspm, ESM, cdnjs, jsdelivr, ...)?¿Qué son los CDN?"
      ],
      "metadata": {
        "nteract": {
          "transient": {
            "deleting": false
          }
        }
      }
    },
    {
      "cell_type": "code",
      "source": [
        "// datos tomados para el Sodio\n",
        "var longitudes_de_onda_medidas = [297, 357, 415, 465].map(x => x*1e-9);  // para pasar a metros\n",
        "var voltajes_medidos = [-1.83, -1.11, -0.6, -0.24];  // en voltios (voltaje de frenado)"
      ],
      "outputs": [],
      "execution_count": 3,
      "metadata": {
        "collapsed": true,
        "jupyter": {
          "source_hidden": false,
          "outputs_hidden": false
        },
        "nteract": {
          "transient": {
            "deleting": false
          }
        },
        "execution": {
          "iopub.status.busy": "2020-11-30T18:22:09.531Z",
          "iopub.execute_input": "2020-11-30T18:22:09.540Z",
          "iopub.status.idle": "2020-11-30T18:22:09.555Z",
          "shell.execute_reply": "2020-11-30T18:22:09.563Z"
        }
      }
    },
    {
      "cell_type": "code",
      "source": [
        "var inversa_de_longitudes_de_onda = longitudes_de_onda_medidas.map(lambda => 1/lambda );  \n",
        "var datos_a_ajustar = voltajes_medidos.reduce((tuplas_longitud_onda_voltaje, b, i) => {\n",
        "    tuplas_longitud_onda_voltaje.push([inversa_de_longitudes_de_onda[i], b]);\n",
        "  return tuplas_longitud_onda_voltaje;\n",
        "}, []);\n",
        "console.log(datos_a_ajustar); // Verás que son tuplas de valores 1/lambda y voltajes"
      ],
      "outputs": [
        {
          "output_type": "stream",
          "name": "stdout",
          "text": [
            "[\n",
            "  [ 3367003.367003367, -1.83 ],\n",
            "  [ 2801120.4481792715, -1.11 ],\n",
            "  [ 2409638.5542168673, -0.6 ],\n",
            "  [ 2150537.634408602, -0.24 ]\n",
            "]\n"
          ]
        }
      ],
      "execution_count": 4,
      "metadata": {
        "collapsed": true,
        "jupyter": {
          "source_hidden": false,
          "outputs_hidden": false
        },
        "nteract": {
          "transient": {
            "deleting": false
          }
        },
        "execution": {
          "iopub.status.busy": "2020-11-30T18:22:11.394Z",
          "iopub.execute_input": "2020-11-30T18:22:11.411Z",
          "iopub.status.idle": "2020-11-30T18:22:11.430Z",
          "shell.execute_reply": "2020-11-30T18:22:11.439Z"
        }
      }
    },
    {
      "cell_type": "code",
      "source": [
        "var regression = require('./regression.js');\n",
        "var result = regression.linear(datos_a_ajustar, { precision: 15 });\n",
        "var m = result.equation[0];  // pendiente\n",
        "var b = result.equation[1];  // ordenada en origen\n",
        "console.log('la pendiente es = ' + m + ' y la ordenada es = ' + b);"
      ],
      "outputs": [
        {
          "output_type": "stream",
          "name": "stdout",
          "text": [
            "la pendiente es = -0.00000130292906 y la ordenada es = 2.549553459839924\n"
          ]
        }
      ],
      "execution_count": 5,
      "metadata": {
        "collapsed": true,
        "jupyter": {
          "source_hidden": false,
          "outputs_hidden": false
        },
        "nteract": {
          "transient": {
            "deleting": false
          }
        },
        "execution": {
          "iopub.status.busy": "2020-11-30T18:22:16.249Z",
          "iopub.execute_input": "2020-11-30T18:22:16.256Z",
          "iopub.status.idle": "2020-11-30T18:22:16.274Z",
          "shell.execute_reply": "2020-11-30T18:22:16.286Z"
        }
      }
    },
    {
      "cell_type": "code",
      "source": [
        "function Plotly(data, layout, $$) {\n",
        "    $$ = $$ || global.$$;\n",
        "    $$.mime({ \"application/vnd.plotly.v1+json\": { data: data, layout: layout } });\n",
        "}"
      ],
      "outputs": [],
      "execution_count": 9,
      "metadata": {
        "collapsed": true,
        "jupyter": {
          "source_hidden": false,
          "outputs_hidden": false
        },
        "nteract": {
          "transient": {
            "deleting": false
          }
        },
        "execution": {
          "iopub.status.busy": "2020-11-30T18:22:22.679Z",
          "iopub.execute_input": "2020-11-30T18:22:22.685Z",
          "iopub.status.idle": "2020-11-30T18:22:22.696Z",
          "shell.execute_reply": "2020-11-30T18:22:22.703Z"
        }
      }
    },
    {
      "cell_type": "code",
      "source": [
        "voltajes_de_frenado_calculados = inversa_de_longitudes_de_onda.map(inversa_lambda => inversa_lambda * m + b)"
      ],
      "outputs": [
        {
          "output_type": "execute_result",
          "execution_count": 10,
          "data": {
            "text/plain": "[\n  -1.8374130721466075,\n  -1.100107772653073,\n  -0.5900346365456182,\n  -0.25244451865469975\n]"
          },
          "metadata": {}
        }
      ],
      "execution_count": 10,
      "metadata": {
        "collapsed": true,
        "jupyter": {
          "source_hidden": false,
          "outputs_hidden": false
        },
        "nteract": {
          "transient": {
            "deleting": false
          }
        },
        "execution": {
          "iopub.status.busy": "2020-11-30T18:22:26.513Z",
          "iopub.execute_input": "2020-11-30T18:22:26.522Z",
          "iopub.status.idle": "2020-11-30T18:22:26.605Z",
          "shell.execute_reply": "2020-11-30T18:22:26.611Z"
        }
      }
    },
    {
      "cell_type": "code",
      "source": [
        "datos = [\n",
        "  { x: inversa_de_longitudes_de_onda, y: voltajes_medidos, name: 'Datos experimentales' }, \n",
        "  { x: inversa_de_longitudes_de_onda, y: voltajes_de_frenado_calculados, name: 'Datos calculados tras ajuste' }\n",
        "];\n",
        "\n",
        "var layout = {\n",
        "  title: 'Gáfica para el sodio',\n",
        "  xaxis: { title: 'Inversa de longitudes de onda (metros^-1)',\n",
        "    titlefont: { family: 'Courier New, monospace', size: 18, color: '#7f7f7f' }\n",
        "  },\n",
        "  yaxis: {\n",
        "    title: 'Voltaje de frenado (voltios)', titlefont: {\n",
        "      family: 'Courier New, monospace', size: 18, color: '#7f7f7f' }\n",
        "  }\n",
        "};\n",
        "\n",
        "Plotly(datos, layout);\n"
      ],
      "outputs": [
        {
          "output_type": "execute_result",
          "execution_count": 11,
          "data": {
            "application/vnd.plotly.v1+json": {
              "data": [
                {
                  "x": [
                    3367003.367003367,
                    2801120.4481792715,
                    2409638.5542168673,
                    2150537.634408602
                  ],
                  "y": [
                    -1.83,
                    -1.11,
                    -0.6,
                    -0.24
                  ],
                  "name": "Datos experimentales"
                },
                {
                  "x": [
                    3367003.367003367,
                    2801120.4481792715,
                    2409638.5542168673,
                    2150537.634408602
                  ],
                  "y": [
                    -1.8374130721466075,
                    -1.100107772653073,
                    -0.5900346365456182,
                    -0.25244451865469975
                  ],
                  "name": "Datos calculados tras ajuste"
                }
              ],
              "layout": {
                "title": "Plot de ejemplo",
                "xaxis": {
                  "title": "x Axis",
                  "titlefont": {
                    "family": "Courier New, monospace",
                    "size": 18,
                    "color": "#7f7f7f"
                  }
                },
                "yaxis": {
                  "title": "y Axis",
                  "titlefont": {
                    "family": "Courier New, monospace",
                    "size": 18,
                    "color": "#7f7f7f"
                  }
                }
              }
            }
          },
          "metadata": {}
        }
      ],
      "execution_count": 11,
      "metadata": {
        "collapsed": true,
        "jupyter": {
          "source_hidden": false,
          "outputs_hidden": false
        },
        "nteract": {
          "transient": {
            "deleting": false
          }
        },
        "execution": {
          "iopub.status.busy": "2020-11-30T18:22:28.287Z",
          "iopub.execute_input": "2020-11-30T18:22:28.296Z",
          "iopub.status.idle": "2020-11-30T18:22:28.393Z",
          "shell.execute_reply": "2020-11-30T18:22:28.402Z"
        }
      }
    }
  ],
  "metadata": {
    "kernel_info": {
      "name": "node_nteract"
    },
    "language_info": {
      "name": "javascript",
      "version": "10.2.0",
      "mimetype": "application/javascript",
      "file_extension": ".js"
    },
    "kernelspec": {
      "name": "node_nteract",
      "language": "javascript",
      "display_name": "Node.js (nteract)"
    },
    "nteract": {
      "version": "0.27.0"
    }
  },
  "nbformat": 4,
  "nbformat_minor": 0
}