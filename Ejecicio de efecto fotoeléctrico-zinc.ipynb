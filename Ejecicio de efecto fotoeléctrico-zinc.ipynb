{
  "cells": [
    {
      "cell_type": "markdown",
      "source": [
        "## Ejercicio sobre el efecto fotoeléctrico"
      ],
      "metadata": {
        "nteract": {
          "transient": {
            "deleting": false
          }
        }
      }
    },
    {
      "cell_type": "markdown",
      "source": [
        "El objetivo de esta práctica es la determinación de la __*energía de arranque*__ de los electrones de un metal y el __valor de la__ __*constante de Planck ($\\hbar$)*__."
      ],
      "metadata": {
        "nteract": {
          "transient": {
            "deleting": false
          }
        }
      }
    },
    {
      "cell_type": "markdown",
      "source": [
        "__*Ejercicio de pre-calentamiento*__: Comprobar que $ e \\cdot V $ tiene unidades de energía, donde $ e $ es la carga del electrón."
      ],
      "metadata": {
        "nteract": {
          "transient": {
            "deleting": false
          }
        }
      }
    },
    {
      "cell_type": "markdown",
      "source": [
        "Sabiendo que la carga del electrón tiene por unidad el Culumbio $ \\mathrm{C} $ cuyas unidades básicas son: \n",
        "\n",
        "$$ \\mathrm{C = s \\cdot A} $$\n",
        "      \n",
        "y que las unidades básicas de la diferencia de potencial $ V $ son: \n",
        "\n",
        "$$ \\mathrm{m^2 \\cdot kg \\cdot s^{-3} \\cdot A^{-1}} $$\n",
        "\n",
        "de su multimicación obtendremos las unidades: \n",
        "\n",
        "$$ \\mathrm{m^2 \\cdot kg \\cdot s^{-2}} $$ \n",
        "\n",
        "que se corresponden con las unidades básicas de energía. \n",
        "\n",
        "$$ \\mathrm{J = N \\cdot m = m^2 \\cdot kg \\cdot s^{-2}} $$\n"
      ],
      "metadata": {
        "nteract": {
          "transient": {
            "deleting": false
          }
        }
      }
    },
    {
      "cell_type": "markdown",
      "source": [
        "__*Ejercicio de calentamiento*__: \n",
        "\n",
        "Demuestra la equivalencia matemática siguiente:   \n",
        "\n",
        "$$  \\frac{x - x_1}{x_2 - x_1} = \\frac{y - y_1}{y_2 - y_1}  \\ \\text{ es equibalente a }\\ y = m \\cdot x + b  $$   \n",
        "\n",
        "donde: \n",
        "\n",
        "$$ m = \\frac{y_1 - y_2}{x_1 - x_2} \\hspace{1cm} b = \\frac{x_1 \\cdot y_2 - x_2 \\cdot y_1}{x_1 - x_2} $$\n",
        "\n",
        "por lo tanto: \n",
        "\n",
        "$$ y = \\frac{x(y_1 - y_2)}{x_1 - x_2} + \\frac{x_1 \\cdot y_2 - x_2 \\cdot y_1}{x_1 - x_2} $$\n",
        "\n",
        "$$ = \\frac{xy_1 - xy_2 + x_1y_2 - x_2y_1}{x_1 - x_2} $$\n",
        "\n",
        "\n"
      ],
      "metadata": {
        "nteract": {
          "transient": {
            "deleting": false
          }
        }
      }
    },
    {
      "cell_type": "markdown",
      "source": [
        "y despejando la $ y $ de la primera función obtenemos:\n",
        "\n",
        "$$ \\frac{(x - x_1) \\cdot (y_2 - y_1)}{x_2 -x_1} = y - y_1 $$\n",
        "\n",
        "donde:\n",
        "\n",
        "$$ y = \\frac{xy_2 - xy_1 - x_1y_2 + x_1y_1}{x_2 - x_1} + y_1 $$\n",
        "\n",
        "por lo tanto: \n",
        "\n",
        "$$ y = \\frac{x(y_1 - y_2)}{x_1 - x_2} + \\frac{x_1 \\cdot y_2 - x_2 \\cdot y_1}{x_1 - x_2} $$\n",
        "\n",
        "$$ = \\frac{xy_1 - xy_2 + x_1y_2 - x_2y_1}{x_1 - x_2} $$\n",
        "\n",
        "\n",
        "\n",
        "$$ = \\frac{xy_2 - xy_1 - x_1y_2 + x_1y_1}{x_2 - x_1} + \\frac{y_1(x_2 - x_1)}{x_2 - x_1} $$\n",
        "\n",
        "$$ = \\frac{xy_2 - xy_1 - x_1y_2 + x_1y_1 + x_2y_1 - x_1y1)}{x_2 - x_1} \\cdot \\frac{-1}{-1} $$\n",
        "\n",
        "$$ = \\frac{xy_1 - xy_2 + x_1y_2 - x_2y_1}{x_1 - x_2} $$\n",
        "\n",
        "quedando demostrada la relación anterior.\n",
        "\n"
      ],
      "metadata": {
        "nteract": {
          "transient": {
            "deleting": false
          }
        }
      }
    },
    {
      "cell_type": "markdown",
      "source": [
        "__*Pregunta*__: ¿Qué hace CheepJ tras el telón y en qué estándares Web se basa?"
      ],
      "metadata": {
        "nteract": {
          "transient": {
            "deleting": false
          }
        }
      }
    },
    {
      "cell_type": "markdown",
      "source": [
        "__*Primer ejercicio*__: \n",
        "\n",
        "Haced una tabla rápida con el nombre de cada color del arcoíris en una columna, una segunda columna con su longitud de onda (en metros) y en una tercera columna su frecuencia (en Hercios). "
      ],
      "metadata": {
        "nteract": {
          "transient": {
            "deleting": false
          }
        }
      }
    },
    {
      "cell_type": "markdown",
      "source": [
        "Color | Longitud de onda (m) | Frecuencia (Hz)\n",
        "--------|----------------------|----------------\n",
        "Violeta | $  4,15 \\cdot 10^{-7} \\ \\mathrm{m} $ | $$ 7,23 \\cdot 10^{14} \\ \\mathrm{Hz}$$\n",
        "Azul | $  4,62 \\cdot 10^{-7} \\ \\mathrm{m} $ | $$ 6,47 \\cdot 10^{14} \\ \\mathrm{Hz}$$\n",
        "Ciano | $  4,85 \\cdot 10^{-7} \\ \\mathrm{m} $ | $$ 6,18 \\cdot 10^{14} \\ \\mathrm{Hz}$$\n",
        "Verde | $  5,32 \\cdot 10^{-7} \\ \\mathrm{m} $ | $$ 5,63 \\cdot 10^{14} \\ \\mathrm{Hz}$$\n",
        "Amarillo | $  5,80 \\cdot 10^{-7} \\ \\mathrm{m} $ | $$ 5,17 \\cdot 10^{14} \\ \\mathrm{Hz}$$\n",
        "Naranja | $  6,05 \\cdot 10^{-7} \\ \\mathrm{m} $ | $$ 4,96 \\cdot 10^{14} \\ \\mathrm{Hz}$$\n",
        "Rojo | $  6,85 \\cdot 10^{-7} \\ \\mathrm{m} $ | $$ 4,38 \\cdot 10^{14} \\ \\mathrm{Hz}$$"
      ],
      "metadata": {
        "nteract": {
          "transient": {
            "deleting": false
          }
        }
      }
    },
    {
      "cell_type": "markdown",
      "source": [
        "¿Cuál es la relación matemática entre longitud de onda y frecuencia?\n",
        "\n",
        "Si la velocidad de propagación es constante, la longitud de onda es inversamente proporcional a la frecuencia.\n"
      ],
      "metadata": {
        "nteract": {
          "transient": {
            "deleting": false
          }
        }
      }
    },
    {
      "cell_type": "markdown",
      "source": [
        "-1,831# Laboratorio virtual #\n",
        "\n",
        "Toma de medidas.\n",
        "\n",
        " ## Sodio ## \n",
        "\n",
        "| Voltaje de frenado (V) | Longitud de onda (m)|     |\n",
        "|------------------------|---------------------|-----|\n",
        "| $ -1,83 \\ \\mathrm{V} $   | $ 2,97 \\cdot 10^{-7} \\ \\mathrm{m} $ | UVB |\n",
        "| $ -1,11 \\ \\mathrm{V} $   | $ 3,57 \\cdot 10^{-7} \\ \\mathrm{m} $ | UVA |\n",
        "| $ -0,60 \\ \\mathrm{V} $   | $ 4,15 \\cdot 10^{-7} \\ \\mathrm{m} $ | Violeta |\n",
        "| $ -0,24 \\ \\mathrm{V} $   | $ 4,62 \\cdot 10^{-7} \\ \\mathrm{m} $ | Azul |\n"
      ],
      "metadata": {
        "nteract": {
          "transient": {
            "deleting": false
          }
        }
      }
    },
    {
      "cell_type": "markdown",
      "source": [
        "## Regesión lineal ##\n"
      ],
      "metadata": {
        "nteract": {
          "transient": {
            "deleting": false
          }
        }
      }
    },
    {
      "cell_type": "markdown",
      "source": [
        "__*Pregunta*__: ¿para qué sirve UNPKG y porqué es uno de los servicios más usados de Internet (junto con jspm, ESM, cdnjs, jsdelivr, ...)?¿Qué son los CDN?"
      ],
      "metadata": {
        "nteract": {
          "transient": {
            "deleting": false
          }
        }
      }
    },
    {
      "cell_type": "code",
      "source": [
        "var longitudes_de_onda_medidas = [262,254,246,238].map(x => x*1e-9); // para pasar a metros\n",
        "var voltajes_medidos = [-0.2,-0.4,-0.6,-0.8]; // en voltios (voltaje de frenado)\n"
      ],
      "outputs": [],
      "execution_count": 10,
      "metadata": {
        "collapsed": true,
        "jupyter": {
          "source_hidden": false,
          "outputs_hidden": false
        },
        "nteract": {
          "transient": {
            "deleting": false
          }
        },
        "execution": {
          "iopub.status.busy": "2020-11-30T18:07:17.777Z",
          "iopub.execute_input": "2020-11-30T18:07:17.780Z",
          "iopub.status.idle": "2020-11-30T18:07:17.785Z",
          "shell.execute_reply": "2020-11-30T18:07:17.789Z"
        }
      }
    },
    {
      "cell_type": "code",
      "source": [
        "var inversa_de_longitudes_de_onda = longitudes_de_onda_medidas.map(lambda => 1/lambda );  \n",
        "var datos_a_ajustar = voltajes_medidos.reduce((tuplas_longitud_onda_voltaje, b, i) => {\n",
        "    tuplas_longitud_onda_voltaje.push([inversa_de_longitudes_de_onda[i], b]);\n",
        "  return tuplas_longitud_onda_voltaje;\n",
        "}, []);\n",
        "console.log(datos_a_ajustar); // Verás que son tuplas de valores 1/lambda y voltajes"
      ],
      "outputs": [
        {
          "output_type": "stream",
          "name": "stdout",
          "text": [
            "[\n",
            "  [ 3816793.893129771, -0.2 ],\n",
            "  [ 3937007.8740157476, -0.4 ],\n",
            "  [ 4065040.650406504, -0.6 ],\n",
            "  [ 4201680.672268908, -0.8 ]\n",
            "]\n"
          ]
        }
      ],
      "execution_count": 11,
      "metadata": {
        "collapsed": true,
        "jupyter": {
          "source_hidden": false,
          "outputs_hidden": false
        },
        "nteract": {
          "transient": {
            "deleting": false
          }
        },
        "execution": {
          "iopub.status.busy": "2020-11-30T18:07:19.563Z",
          "iopub.execute_input": "2020-11-30T18:07:19.568Z",
          "iopub.status.idle": "2020-11-30T18:07:19.611Z",
          "shell.execute_reply": "2020-11-30T18:07:19.614Z"
        }
      }
    },
    {
      "cell_type": "code",
      "source": [
        "var regression = require('./regression.js');\n",
        "var result = regression.linear(datos_a_ajustar, { precision: 15 });\n",
        "var m = result.equation[0];  // pendiente\n",
        "var b = result.equation[1];  // ordenada en origen\n",
        "console.log('la pendiente es = ' + m + ' y la ordenada es = ' + b);"
      ],
      "outputs": [
        {
          "output_type": "stream",
          "name": "stdout",
          "text": [
            "la pendiente es = -0.000001557941379 y la ordenada es = 5.73975895871424\n"
          ]
        }
      ],
      "execution_count": 12,
      "metadata": {
        "collapsed": true,
        "jupyter": {
          "source_hidden": false,
          "outputs_hidden": false
        },
        "nteract": {
          "transient": {
            "deleting": false
          }
        },
        "execution": {
          "iopub.status.busy": "2020-11-30T18:07:20.955Z",
          "iopub.execute_input": "2020-11-30T18:07:20.957Z",
          "iopub.status.idle": "2020-11-30T18:07:20.964Z",
          "shell.execute_reply": "2020-11-30T18:07:20.967Z"
        }
      }
    },
    {
      "cell_type": "code",
      "source": [
        "function Plotly(data, layout, $$) {\n",
        "    $$ = $$ || global.$$;\n",
        "    $$.mime({ \"application/vnd.plotly.v1+json\": { data: data, layout: layout } });\n",
        "}"
      ],
      "outputs": [],
      "execution_count": 13,
      "metadata": {
        "collapsed": true,
        "jupyter": {
          "source_hidden": false,
          "outputs_hidden": false
        },
        "nteract": {
          "transient": {
            "deleting": false
          }
        },
        "execution": {
          "iopub.status.busy": "2020-11-30T18:07:24.503Z",
          "iopub.execute_input": "2020-11-30T18:07:24.505Z",
          "iopub.status.idle": "2020-11-30T18:07:24.512Z",
          "shell.execute_reply": "2020-11-30T18:07:24.518Z"
        }
      }
    },
    {
      "cell_type": "code",
      "source": [
        "var voltajes_de_frenado_calculados = inversa_de_longitudes_de_onda.map(inversa_lambda => inversa_lambda * m + b)"
      ],
      "outputs": [],
      "execution_count": 14,
      "metadata": {
        "collapsed": true,
        "jupyter": {
          "source_hidden": false,
          "outputs_hidden": false
        },
        "nteract": {
          "transient": {
            "deleting": false
          }
        },
        "execution": {
          "iopub.status.busy": "2020-11-30T18:07:25.393Z",
          "iopub.execute_input": "2020-11-30T18:07:25.397Z",
          "iopub.status.idle": "2020-11-30T18:07:25.401Z",
          "shell.execute_reply": "2020-11-30T18:07:25.404Z"
        }
      }
    },
    {
      "cell_type": "code",
      "source": [
        "datos = [\n",
        "  { x: inversa_de_longitudes_de_onda, y: voltajes_medidos, name: 'Datos experimentales' }, \n",
        "  { x: inversa_de_longitudes_de_onda, y: voltajes_de_frenado_calculados, name: 'Datos calculados tras ajuste' }\n",
        "];\n",
        "\n",
        "var layout = {\n",
        "  title: 'Gráfica para el zinc',\n",
        "  xaxis: { title: 'Inversa de longitudes de onda',\n",
        "    titlefont: { family: 'Courier New, monospace', size: 18, color: '#A20404' }\n",
        "  },\n",
        "  yaxis: {\n",
        "    title: 'Voltaje de frenado', titlefont: {\n",
        "      family: 'Courier New, monospace', size: 18, color: '#A20404' }\n",
        "  }\n",
        "};\n",
        "\n",
        "Plotly(datos, layout);\n"
      ],
      "outputs": [
        {
          "output_type": "execute_result",
          "execution_count": 22,
          "data": {
            "application/vnd.plotly.v1+json": {
              "data": [
                {
                  "x": [
                    3816793.893129771,
                    3937007.8740157476,
                    4065040.650406504,
                    4201680.672268908
                  ],
                  "y": [
                    -0.2,
                    -0.4,
                    -0.6,
                    -0.8
                  ],
                  "name": "Datos experimentales"
                },
                {
                  "x": [
                    3816793.893129771,
                    3937007.8740157476,
                    4065040.650406504,
                    4201680.672268908
                  ],
                  "y": [
                    -0.20658218250713478,
                    -0.3938685176637122,
                    -0.5933360778711263,
                    -0.8062132219580294
                  ],
                  "name": "Datos calculados tras ajuste"
                }
              ],
              "layout": {
                "title": "Gráfica para el zinc",
                "xaxis": {
                  "title": "Inversa de longitudes de onda (Herzios)",
                  "titlefont": {
                    "family": "Courier New, monospace",
                    "size": 18,
                    "color": "#A20404"
                  }
                },
                "yaxis": {
                  "title": "Voltaje de frenado (Voltios)",
                  "titlefont": {
                    "family": "Courier New, monospace",
                    "size": 18,
                    "color": "#A20404"
                  }
                }
              }
            }
          },
          "metadata": {}
        }
      ],
      "execution_count": 22,
      "metadata": {
        "collapsed": true,
        "jupyter": {
          "source_hidden": false,
          "outputs_hidden": false
        },
        "nteract": {
          "transient": {
            "deleting": false
          }
        },
        "execution": {
          "iopub.status.busy": "2020-11-30T18:20:57.806Z",
          "iopub.execute_input": "2020-11-30T18:20:57.809Z",
          "iopub.status.idle": "2020-11-30T18:20:57.839Z",
          "shell.execute_reply": "2020-11-30T18:20:57.841Z"
        }
      }
    }
  ],
  "metadata": {
    "kernel_info": {
      "name": "node_nteract"
    },
    "language_info": {
      "name": "javascript",
      "version": "12.8.1",
      "mimetype": "application/javascript",
      "file_extension": ".js"
    },
    "kernelspec": {
      "argv": [
        "C:\\Program Files\\nteract\\nteract.exe",
        "C:\\Program Files\\nteract\\resources\\app.asar\\node_modules\\ijavascript\\lib\\kernel.js",
        "{connection_file}",
        "--protocol=5.0",
        "--hide-undefined"
      ],
      "display_name": "Node.js (nteract)",
      "env": {
        "ELECTRON_RUN_AS_NODE": "1",
        "NODE_PATH": "C:\\Program Files\\nteract\\resources\\app.asar\\node_modules"
      },
      "language": "javascript",
      "name": "node_nteract"
    },
    "nteract": {
      "version": "0.26.0"
    }
  },
  "nbformat": 4,
  "nbformat_minor": 0
}